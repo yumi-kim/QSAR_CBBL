{
 "cells": [
  {
   "cell_type": "code",
   "execution_count": 2,
   "metadata": {
    "scrolled": true
   },
   "outputs": [
    {
     "name": "stdout",
     "output_type": "stream",
     "text": [
      "mean : 1, median : 2, most frequent : 3   ==>2\n"
     ]
    }
   ],
   "source": [
    "\n",
    "'''\n",
    "## 2019. 2. 20\n",
    "## updated by 2019. 5.30\n",
    "\n",
    "by Yumi Kim CBBL at GNU\n",
    "Imputation of Missing Values\n",
    "\n",
    "'''\n",
    "\n",
    "# import Libraries\n",
    "import pandas as pd\n",
    "import numpy as np\n",
    "from sklearn.impute import SimpleImputer # for Imputeation\n",
    "\n",
    "# Read from csv file\n",
    "raw_dataset = pd.read_csv('train_x_data.csv')\n",
    "\n",
    "# Remove \"SMILE\" column for imputation\n",
    "if 'smile' in raw_dataset.columns:\n",
    "    smile_data = raw_dataset['smile']\n",
    "    raw_dataset = raw_dataset.drop(\"smile\", axis = 1) \n",
    "\n",
    "    \n",
    "##### Step 1 : Imputation of Missing Value \n",
    "# Strategy could be 'mean' or 'median' or 'most_frequent'\n",
    "while True:\n",
    "    \n",
    "    # Input from user\n",
    "    strategy = int(input(\"mean : 1, median : 2, most frequent : 3   ==>\"))\n",
    "\n",
    "    if strategy == 1:\n",
    "        imp = SimpleImputer(missing_values=np.nan, strategy='mean')\n",
    "        break;\n",
    "    elif strategy == 2:\n",
    "        imp = SimpleImputer(missing_values=np.nan, strategy='median')\n",
    "        break;\n",
    "    elif strategy ==3 :\n",
    "        imp = SimpleImputer(missing_values=np.nan, strategy='most_frequent')\n",
    "        break;\n",
    "    else :\n",
    "        print(\"Please Enter 1,2 or 3!\")\n",
    "        \n",
    "imp.fit(raw_dataset)\n",
    "imputedDataSet = imp.transform(raw_dataset)\n",
    "\n",
    "# To write for imputed DataFrame\n",
    "df = pd.DataFrame(imputedDataSet, columns = raw_dataset.columns)\n",
    "df['smile']=smile_data # appending for removed \"SMILE\" column\n",
    "df.to_csv('train_x_Imputed_missing_values.csv', index=False)"
   ]
  },
  {
   "cell_type": "code",
   "execution_count": null,
   "metadata": {},
   "outputs": [],
   "source": []
  },
  {
   "cell_type": "code",
   "execution_count": null,
   "metadata": {},
   "outputs": [],
   "source": [
    "1"
   ]
  }
 ],
 "metadata": {
  "kernelspec": {
   "display_name": "Python 3",
   "language": "python",
   "name": "python3"
  },
  "language_info": {
   "codemirror_mode": {
    "name": "ipython",
    "version": 3
   },
   "file_extension": ".py",
   "mimetype": "text/x-python",
   "name": "python",
   "nbconvert_exporter": "python",
   "pygments_lexer": "ipython3",
   "version": "3.6.6"
  }
 },
 "nbformat": 4,
 "nbformat_minor": 2
}
