{
 "cells": [
  {
   "cell_type": "code",
   "execution_count": 3,
   "metadata": {},
   "outputs": [
    {
     "name": "stdout",
     "output_type": "stream",
     "text": [
      "<class 'pandas.core.frame.DataFrame'>\n",
      "RangeIndex: 80 entries, 0 to 79\n",
      "Columns: 103 entries, nphos to bcutm12\n",
      "dtypes: float64(84), int64(19)\n",
      "memory usage: 64.5 KB\n",
      "None\n",
      "============================================\n",
      "After Processing of Univariate Feature Selection(UFS)\n",
      "============================================\n",
      "<class 'pandas.core.frame.DataFrame'>\n",
      "RangeIndex: 80 entries, 0 to 79\n",
      "Data columns (total 10 columns):\n",
      "ndb           80 non-null float64\n",
      "nnitro        80 non-null float64\n",
      "naccr         80 non-null float64\n",
      "IC1           80 non-null float64\n",
      "TPSA          80 non-null float64\n",
      "EstateVSA6    80 non-null float64\n",
      "PEOEVSA1      80 non-null float64\n",
      "MRVSA2        80 non-null float64\n",
      "MRVSA8        80 non-null float64\n",
      "slogPVSA7     80 non-null float64\n",
      "dtypes: float64(10)\n",
      "memory usage: 6.3 KB\n",
      "None\n"
     ]
    }
   ],
   "source": [
    "'''\n",
    "## 2019. 3. 11\n",
    "## updated by 2019. 5.30\n",
    "\n",
    "by Yumi Kim CBBL at GNU\n",
    "To Optimize Using Univariate feature selection\n",
    "Univariate feature selection works \n",
    "by selecting the best features based on univariate statistical tests. \n",
    "It can be seen as a preprocessing step to an estimator.\n",
    "\n",
    "'''\n",
    "\n",
    "# import Libraries\n",
    "import pandas as pd\n",
    "import numpy as np\n",
    "from sklearn.feature_selection import SelectKBest\n",
    "#from sklearn.feature_selection import chi2\n",
    "from sklearn.feature_selection import f_classif\n",
    "\n",
    "# Read from csv file\n",
    "raw_dataset = pd.read_csv('train_x_removing_high_correlation_feature_values_with_y.csv')\n",
    "\n",
    "if 'smile' in raw_dataset.columns:\n",
    "    smile_data = raw_dataset['smile'] \n",
    "    raw_dataset = raw_dataset.drop(\"smile\", axis = 1) # Remove \"SMILE\" column\n",
    "    \n",
    "# Get Data and Target from raw_dataset\n",
    "y_true_data = []\n",
    "if 'y_true' in raw_dataset.columns:\n",
    "    y_true_data = raw_dataset['y_true'] \n",
    "    raw_dataset = raw_dataset.drop(\"y_true\", axis = 1) # Remove \"y_true\" column\n",
    "\n",
    "\n",
    "##### Machine Learning Algorithm\n",
    "##### Univariate Feature Selection(UFS)\n",
    "X = raw_dataset\n",
    "X.shape\n",
    "y = y_true_data\n",
    "\n",
    "#For Debug\n",
    "print(raw_dataset.info())\n",
    "\n",
    "sel = SelectKBest(f_classif, k=10)\n",
    "# sel = SelectKBest(chi2, k=20) # If Dataset contains negative feature, error will be occured.\n",
    "\n",
    "sel_data= sel.fit_transform(X,y)\n",
    "X_selected_df = pd.DataFrame(sel_data, columns=[raw_dataset.columns[i] for i in range(len(raw_dataset.columns)) if sel.get_support()[i]])\n",
    "\n",
    "# To write for Univariate Feature Selection(UFS)\n",
    "print(\"============================================\")\n",
    "print(\"After Processing of Univariate Feature Selection(UFS)\")\n",
    "print(\"============================================\")\n",
    "print(X_selected_df.info())\n",
    "X_selected_df['smile']=smile_data # appending for removed \"SMILE\" column\n",
    "X_selected_df.to_csv('train_x_univariate_feature_selection_f_classif.csv', index=False)\n",
    "\n"
   ]
  },
  {
   "cell_type": "code",
   "execution_count": null,
   "metadata": {},
   "outputs": [],
   "source": []
  }
 ],
 "metadata": {
  "kernelspec": {
   "display_name": "Python 3",
   "language": "python",
   "name": "python3"
  },
  "language_info": {
   "codemirror_mode": {
    "name": "ipython",
    "version": 3
   },
   "file_extension": ".py",
   "mimetype": "text/x-python",
   "name": "python",
   "nbconvert_exporter": "python",
   "pygments_lexer": "ipython3",
   "version": "3.6.6"
  }
 },
 "nbformat": 4,
 "nbformat_minor": 2
}
