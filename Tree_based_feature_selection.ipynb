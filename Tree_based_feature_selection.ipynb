{
 "cells": [
  {
   "cell_type": "code",
   "execution_count": 3,
   "metadata": {},
   "outputs": [
    {
     "name": "stdout",
     "output_type": "stream",
     "text": [
      "<class 'pandas.core.frame.DataFrame'>\n",
      "RangeIndex: 80 entries, 0 to 79\n",
      "Columns: 103 entries, nphos to bcutm12\n",
      "dtypes: float64(84), int64(19)\n",
      "memory usage: 64.5 KB\n",
      "None\n",
      "============================================\n",
      "After Processing of Tree-based Feature Selection\n",
      "============================================\n",
      "(80, 28)\n"
     ]
    }
   ],
   "source": [
    "'''\n",
    "# 2019.03.19\n",
    "## updated by 2019. 5.30\n",
    "\n",
    "by Yumi Kim CBBL at GNU\n",
    "Tree based feature selection\n",
    "\n",
    "'''\n",
    "\n",
    "import pandas as pd\n",
    "from sklearn.ensemble import ExtraTreesClassifier\n",
    "from sklearn.feature_selection import SelectFromModel\n",
    "\n",
    "# Read from csv file\n",
    "raw_dataset = pd.read_csv('train_x_removing_high_correlation_feature_values_with_y.csv')\n",
    "\n",
    "if 'smile' in raw_dataset.columns:\n",
    "    smile_data = raw_dataset['smile'] \n",
    "    #print(smile_data)\n",
    "    raw_dataset = raw_dataset.drop(\"smile\", axis = 1) # Remove \"SMILE\" column\n",
    "\n",
    "# Get Data and Target from raw_dataset\n",
    "y_true_data = []\n",
    "if 'y_true' in raw_dataset.columns:\n",
    "    y_true_data = raw_dataset['y_true'] \n",
    "    #print(y_true_data)\n",
    "    raw_dataset = raw_dataset.drop(\"y_true\", axis = 1) # Remove \"y_true\" column\n",
    "\n",
    "##### Machine Learning Algorithm\n",
    "##### Tree-based Feature Selection\n",
    "X = raw_dataset\n",
    "X.shape\n",
    "y = y_true_data\n",
    "\n",
    "#For Debug\n",
    "print(raw_dataset.info())\n",
    "\n",
    "# n_estimators : The number of trees in the forest.\n",
    "# max_features : optional (default=”auto”)\n",
    "# min_impurity_decrease \n",
    "# min_impurity_split : float, (default=1e-7) -- Deprecated since version 0.19\n",
    "# Threshold for early stopping in tree growth. A node will split if its impurity is above the threshold, otherwise it is a leaf.)\n",
    "clf =ExtraTreesClassifier(n_estimators=500, max_features = 'auto', min_impurity_decrease=0.0, min_impurity_split=None) \n",
    "clf = clf.fit(X, y)\n",
    "clf.feature_importances_\n",
    "\n",
    "model = SelectFromModel(clf, prefit = True)\n",
    "X_new = model.transform(X)\n",
    "\n",
    "X_selected_df = pd.DataFrame(X_new, columns=[raw_dataset.columns[i] for i in range(len(raw_dataset.columns)) if model.get_support()[i]])\n",
    "\n",
    "# To write for Tree-based Feature Selection\n",
    "print(\"============================================\")\n",
    "print(\"After Processing of Tree-based Feature Selection\")\n",
    "print(\"============================================\")\n",
    "print(X_selected_df.shape)\n",
    "X_selected_df['smile']=smile_data # appending for removed \"SMILE\" column\n",
    "X_selected_df.to_csv('train_x_tree_based_featured_selection.csv', index=False)"
   ]
  },
  {
   "cell_type": "code",
   "execution_count": null,
   "metadata": {},
   "outputs": [],
   "source": []
  }
 ],
 "metadata": {
  "kernelspec": {
   "display_name": "Python 3",
   "language": "python",
   "name": "python3"
  },
  "language_info": {
   "codemirror_mode": {
    "name": "ipython",
    "version": 3
   },
   "file_extension": ".py",
   "mimetype": "text/x-python",
   "name": "python",
   "nbconvert_exporter": "python",
   "pygments_lexer": "ipython3",
   "version": "3.6.6"
  }
 },
 "nbformat": 4,
 "nbformat_minor": 2
}
