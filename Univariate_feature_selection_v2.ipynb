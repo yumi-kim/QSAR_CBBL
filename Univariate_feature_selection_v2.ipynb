{
 "cells": [
  {
   "cell_type": "code",
   "execution_count": 8,
   "metadata": {},
   "outputs": [
    {
     "name": "stdout",
     "output_type": "stream",
     "text": [
      "<class 'pandas.core.frame.DataFrame'>\n",
      "RangeIndex: 56 entries, 0 to 55\n",
      "Columns: 406 entries, nAcid to Zagreb\n",
      "dtypes: float64(406)\n",
      "memory usage: 177.7 KB\n",
      "None\n",
      "============================================\n",
      "After Processing of Univariate Feature Selection(UFS)\n",
      "============================================\n",
      "<class 'pandas.core.frame.DataFrame'>\n",
      "RangeIndex: 56 entries, 0 to 55\n",
      "Data columns (total 15 columns):\n",
      "AATS5p             56 non-null float64\n",
      "AATSC1v            56 non-null float64\n",
      "SpMax4_Bhi         56 non-null float64\n",
      "SpMin4_Bhi         56 non-null float64\n",
      "SHCHnX             56 non-null float64\n",
      "SHCsats            56 non-null float64\n",
      "SsssCH             56 non-null float64\n",
      "minsssCH           56 non-null float64\n",
      "maxHCHnX           56 non-null float64\n",
      "maxHCsats          56 non-null float64\n",
      "ETA_Beta_ns        56 non-null float64\n",
      "nHBAcc_Lipinski    56 non-null float64\n",
      "MIC5               56 non-null float64\n",
      "piPC6              56 non-null float64\n",
      "TopoPSA            56 non-null float64\n",
      "dtypes: float64(15)\n",
      "memory usage: 6.6 KB\n",
      "None\n"
     ]
    }
   ],
   "source": [
    "'''\n",
    "## 2019. 3. 11\n",
    "## updated by 2019. 5.30\n",
    "## updated by 2019. 9.09\n",
    "\n",
    "by Yumi Kim CBBL at GNU\n",
    "To Optimize Using Univariate feature selection\n",
    "Univariate feature selection works \n",
    "by selecting the best features based on univariate statistical tests. \n",
    "It can be seen as a preprocessing step to an estimator.\n",
    "\n",
    "'''\n",
    "\n",
    "# import Libraries\n",
    "import pandas as pd\n",
    "import numpy as np\n",
    "from sklearn.feature_selection import SelectKBest\n",
    "from sklearn.feature_selection import f_regression\n",
    "\n",
    "# Read from csv file\n",
    "raw_dataset = pd.read_csv('train_x_removing_high_correlation_feature_values.csv')\n",
    "\n",
    "if 'smile' in raw_dataset.columns:\n",
    "    smile_data = raw_dataset['smile'] \n",
    "    raw_dataset = raw_dataset.drop(\"smile\", axis = 1) # Remove \"SMILE\" column\n",
    "    \n",
    "# Get Data and Target from raw_dataset\n",
    "y_IC50_data = []  \n",
    "if 'IC50' in raw_dataset.columns:\n",
    "    y_IC50_data = raw_dataset['IC50'] \n",
    "    #print(smile_data)\n",
    "    raw_dataset = raw_dataset.drop(\"IC50\", axis = 1) # Remove \"IC50\" column\n",
    "    \n",
    "##### Machine Learning Algorithm\n",
    "##### Univariate Feature Selection(UFS)\n",
    "X = raw_dataset\n",
    "X.shape\n",
    "y = y_IC50_data\n",
    "\n",
    "#For Debug\n",
    "print(raw_dataset.info())\n",
    "\n",
    "sel = SelectKBest(f_regression, k=15)\n",
    "sel_data= sel.fit_transform(X,y)\n",
    "X_selected_df = pd.DataFrame(sel_data, columns=[raw_dataset.columns[i] for i in range(len(raw_dataset.columns)) if sel.get_support()[i]])\n",
    "\n",
    "# To write for Univariate Feature Selection(UFS)\n",
    "print(\"============================================\")\n",
    "print(\"After Processing of Univariate Feature Selection(UFS)\")\n",
    "print(\"============================================\")\n",
    "print(X_selected_df.info())\n",
    "X_selected_df['smile']=smile_data # appending for removed \"SMILE\" column\n",
    "X_selected_df['IC50']=y_IC50_data # appending for removed \"IC50\" column\n",
    "X_selected_df.to_csv('train_x_univariate_feature_selection_f_regression.csv', index=False)\n",
    "\n"
   ]
  },
  {
   "cell_type": "code",
   "execution_count": null,
   "metadata": {},
   "outputs": [],
   "source": []
  },
  {
   "cell_type": "code",
   "execution_count": null,
   "metadata": {},
   "outputs": [],
   "source": []
  }
 ],
 "metadata": {
  "kernelspec": {
   "display_name": "Python 3",
   "language": "python",
   "name": "python3"
  },
  "language_info": {
   "codemirror_mode": {
    "name": "ipython",
    "version": 3
   },
   "file_extension": ".py",
   "mimetype": "text/x-python",
   "name": "python",
   "nbconvert_exporter": "python",
   "pygments_lexer": "ipython3",
   "version": "3.7.0"
  }
 },
 "nbformat": 4,
 "nbformat_minor": 2
}
