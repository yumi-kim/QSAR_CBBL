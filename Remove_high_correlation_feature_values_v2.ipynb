{
 "cells": [
  {
   "cell_type": "code",
   "execution_count": 4,
   "metadata": {},
   "outputs": [
    {
     "name": "stdout",
     "output_type": "stream",
     "text": [
      "<class 'pandas.core.frame.DataFrame'>\n",
      "RangeIndex: 56 entries, 0 to 55\n",
      "Columns: 806 entries, nAcid to Zagreb\n",
      "dtypes: float64(806)\n",
      "memory usage: 352.7 KB\n",
      "None\n",
      "Remove Upper Side : 1, Remove Lower Side : 2   ==>2\n",
      "============================================\n",
      "After Processing of Removing High Correlation Feature variances \n",
      "============================================\n",
      "<class 'pandas.core.frame.DataFrame'>\n",
      "RangeIndex: 56 entries, 0 to 55\n",
      "Columns: 406 entries, nAcid to Zagreb\n",
      "dtypes: float64(406)\n",
      "memory usage: 177.7 KB\n",
      "None\n"
     ]
    }
   ],
   "source": [
    "'''\n",
    "## 2019. 2. 27\n",
    "## updated by 2019. 5.30\n",
    "## updated by 2019. 9.09\n",
    "\n",
    "by Yumi Kim CBBL at GNU\n",
    "To Remove low variance feature values\n",
    "\n",
    "'''\n",
    "\n",
    "# import Libraries\n",
    "import pandas as pd\n",
    "import numpy as np\n",
    "\n",
    "# Read from csv file\n",
    "raw_dataset = pd.read_csv('train_x_low_variance_feature_values.csv')\n",
    "\n",
    "if 'smile' in raw_dataset.columns:\n",
    "    smile_data = raw_dataset['smile'] \n",
    "    #print(smile_data)\n",
    "    raw_dataset = raw_dataset.drop(\"smile\", axis = 1) # Remove \"SMILE\" column\n",
    "if 'IC50' in raw_dataset.columns:\n",
    "    IC50_data = raw_dataset['IC50']\n",
    "    raw_dataset = raw_dataset.drop(\"IC50\", axis = 1) \n",
    "    \n",
    "##### Step 3 : High Correlation Feature (This could remove all high correlation features by using threshold values - 0.95.)\n",
    "print(raw_dataset.info())\n",
    "\n",
    "corr_table = raw_dataset.corr().abs()\n",
    "\n",
    "while True:\n",
    "    \n",
    "    # Input from user\n",
    "    strategy = int(input(\"Remove Upper Side : 1, Remove Lower Side : 2   ==>\"))\n",
    "\n",
    "    if strategy == 1:\n",
    "        #Select upper triangle of correlation matrix\n",
    "        upper = corr_table.where(np.triu(np.ones(corr_table.shape), k=1).astype(np.bool))\n",
    "        # Find index of feature columns with correlation greater than 0.95\n",
    "        to_drop = [column for column in upper.columns if any(upper[column] > 0.95)]\n",
    "        break;\n",
    "    elif strategy == 2:\n",
    "        #Select lower triangle of correlation matrix\n",
    "        lower = corr_table.where(np.tril(np.ones(corr_table.shape), k=-1).astype(np.bool))\n",
    "        # Find index of feature columns with correlation greater than 0.95\n",
    "        to_drop = [column for column in lower.columns if any(lower[column] > 0.95)]\n",
    "        break;\n",
    "    else :\n",
    "        print(\"Please Enter 1 or 2!\")\n",
    "        \n",
    "# Drop features \n",
    "raw_dataset = raw_dataset.drop(to_drop, axis=1)\n",
    "\n",
    "# To write for featured DataFrame\n",
    "df = pd.DataFrame(raw_dataset)\n",
    "print(\"============================================\")\n",
    "print(\"After Processing of Removing High Correlation Feature variances \")\n",
    "print(\"============================================\")\n",
    "print(df.info())\n",
    "df['smile']=smile_data # appending for removed \"SMILE\" column\n",
    "df['IC50']=IC50_data # appending for removed \"SMILE\" column\n",
    "df.to_csv('train_x_removing_high_correlation_feature_values.csv', index=False)\n"
   ]
  },
  {
   "cell_type": "code",
   "execution_count": null,
   "metadata": {},
   "outputs": [],
   "source": []
  },
  {
   "cell_type": "code",
   "execution_count": null,
   "metadata": {},
   "outputs": [],
   "source": []
  }
 ],
 "metadata": {
  "kernelspec": {
   "display_name": "Python 3",
   "language": "python",
   "name": "python3"
  },
  "language_info": {
   "codemirror_mode": {
    "name": "ipython",
    "version": 3
   },
   "file_extension": ".py",
   "mimetype": "text/x-python",
   "name": "python",
   "nbconvert_exporter": "python",
   "pygments_lexer": "ipython3",
   "version": "3.7.0"
  }
 },
 "nbformat": 4,
 "nbformat_minor": 2
}
