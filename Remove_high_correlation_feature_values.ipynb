{
 "cells": [
  {
   "cell_type": "code",
   "execution_count": 1,
   "metadata": {},
   "outputs": [
    {
     "name": "stdout",
     "output_type": "stream",
     "text": [
      "<class 'pandas.core.frame.DataFrame'>\n",
      "RangeIndex: 80 entries, 0 to 79\n",
      "Columns: 172 entries, nphos to bcutm12\n",
      "dtypes: float64(172)\n",
      "memory usage: 107.6 KB\n",
      "None\n",
      "['Weight', 'PC2', 'PC3', 'PC1', 'PC6', 'PC4', 'PC5', 'DZ', 'Gravto', 'IDET', 'Sitov', 'IDE', 'TIAC', 'Qindex', 'diametert', 'IVDE', 'ISIZ', 'Platt', 'ZM2', 'ZM1', 'radiust', 'Tsch', 'Thara', 'W', 'GMTI', 'MZM1', 'Ipc', 'Sito', 'Tigdi', 'Pol', 'Xu', 'kappa1', 'kappa2', 'kappam1', 'kappam3', 'kappam2', 'CIC5', 'IC5', 'IC4', 'Tpc', 'Tnc', 'Tac', 'LabuteASA', 'MRVSA6', 'slogPVSA5', 'VSAEstate10', 'bcutp6', 'bcutm7', 'bcutv8', 'bcutv6', 'bcutm6', 'bcutm3', 'bcutm5', 'bcutv5', 'bcute8', 'bcutp4', 'bcutv16', 'bcutp7', 'bcutp16', 'bcutp15', 'bcute16', 'bcute15', 'bcute14', 'bcute13', 'bcute12', 'bcute7', 'bcute6', 'bcute5', 'bcutv7']\n",
      "============================================\n",
      "After Processing of Removing High Correlation Feature variances \n",
      "============================================\n",
      "<class 'pandas.core.frame.DataFrame'>\n",
      "RangeIndex: 80 entries, 0 to 79\n",
      "Columns: 103 entries, nphos to bcutm12\n",
      "dtypes: float64(103)\n",
      "memory usage: 64.5 KB\n",
      "None\n"
     ]
    }
   ],
   "source": [
    "'''\n",
    "## 2019. 2. 27\n",
    "## updated by 2019. 5.30\n",
    "\n",
    "by Yumi Kim CBBL at GNU\n",
    "To Remove low variance feature values\n",
    "\n",
    "'''\n",
    "\n",
    "# import Libraries\n",
    "import pandas as pd\n",
    "import numpy as np\n",
    "\n",
    "# Read from csv file\n",
    "raw_dataset = pd.read_csv('train_x_low_variance_feature_values.csv')\n",
    "\n",
    "if 'smile' in raw_dataset.columns:\n",
    "    smile_data = raw_dataset['smile'] \n",
    "    #print(smile_data)\n",
    "    raw_dataset = raw_dataset.drop(\"smile\", axis = 1) # Remove \"SMILE\" column\n",
    "\n",
    "##### Step 3 : High Correlation Feature (This could remove all high correlation features by using threshold values - 0.95.)\n",
    "print(raw_dataset.info())\n",
    "\n",
    "corr_table = raw_dataset.corr().abs()\n",
    "#print(corr_table.head(30))\n",
    "#raw =corr_table[(corr_table.abs()>0.90) & (corr_table.abs() < 1.0)]\n",
    "\n",
    "# Select upper triangle of correlation matrix\n",
    "upper = corr_table.where(np.triu(np.ones(corr_table.shape), k=1).astype(np.bool))\n",
    "\n",
    "#for Debug\n",
    "'''\n",
    "upper_df = pd.DataFrame(upper, columns = upper.columns)\n",
    "upper_df.to_csv('upper_df_for_debug.csv', index=False)\n",
    "'''\n",
    "# Find index of feature columns with correlation greater than 0.95\n",
    "to_drop = [column for column in upper.columns if any(upper[column] > 0.95)]\n",
    "\n",
    "print(to_drop)\n",
    "# Drop features \n",
    "#raw_dataset = raw_dataset.drop(raw_dataset.columns[to_drop], axis=1, inplace=True)\n",
    "raw_dataset = raw_dataset.drop(to_drop, axis=1)\n",
    "\n",
    "# To write for featured DataFrame\n",
    "df = pd.DataFrame(raw_dataset)\n",
    "print(\"============================================\")\n",
    "print(\"After Processing of Removing High Correlation Feature variances \")\n",
    "print(\"============================================\")\n",
    "print(df.info())\n",
    "df['smile']=smile_data # appending for removed \"SMILE\" column\n",
    "df.to_csv('train_x_removing_high_correlation_feature_values.csv', index=False)\n"
   ]
  },
  {
   "cell_type": "code",
   "execution_count": null,
   "metadata": {},
   "outputs": [],
   "source": []
  }
 ],
 "metadata": {
  "kernelspec": {
   "display_name": "Python 3",
   "language": "python",
   "name": "python3"
  },
  "language_info": {
   "codemirror_mode": {
    "name": "ipython",
    "version": 3
   },
   "file_extension": ".py",
   "mimetype": "text/x-python",
   "name": "python",
   "nbconvert_exporter": "python",
   "pygments_lexer": "ipython3",
   "version": "3.6.6"
  }
 },
 "nbformat": 4,
 "nbformat_minor": 2
}
